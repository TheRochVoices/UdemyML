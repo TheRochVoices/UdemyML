{
 "cells": [
  {
   "cell_type": "code",
   "execution_count": 1,
   "metadata": {},
   "outputs": [],
   "source": [
    "import numpy as np\n",
    "import pandas as pd\n",
    "import matplotlib.pyplot as plt"
   ]
  },
  {
   "cell_type": "code",
   "execution_count": 2,
   "metadata": {},
   "outputs": [],
   "source": [
    "df = pd.read_csv(\"Social_Network_Ads.csv\")\n",
    "x = df.iloc[:, 2:4].values\n",
    "y = df.iloc[:, 4].values"
   ]
  },
  {
   "cell_type": "code",
   "execution_count": 3,
   "metadata": {},
   "outputs": [
    {
     "name": "stderr",
     "output_type": "stream",
     "text": [
      "/home/therochvoices/anaconda3/lib/python3.6/site-packages/sklearn/cross_validation.py:41: DeprecationWarning: This module was deprecated in version 0.18 in favor of the model_selection module into which all the refactored classes and functions are moved. Also note that the interface of the new CV iterators are different from that of this module. This module will be removed in 0.20.\n",
      "  \"This module will be removed in 0.20.\", DeprecationWarning)\n"
     ]
    }
   ],
   "source": [
    "from sklearn.cross_validation import train_test_split\n",
    "x_train, x_test, y_train, y_test = train_test_split(x, y, test_size=0.2)\n"
   ]
  },
  {
   "cell_type": "code",
   "execution_count": 4,
   "metadata": {},
   "outputs": [
    {
     "name": "stderr",
     "output_type": "stream",
     "text": [
      "/home/therochvoices/anaconda3/lib/python3.6/site-packages/sklearn/utils/validation.py:475: DataConversionWarning: Data with input dtype int64 was converted to float64 by StandardScaler.\n",
      "  warnings.warn(msg, DataConversionWarning)\n"
     ]
    }
   ],
   "source": [
    "from sklearn.preprocessing import StandardScaler\n",
    "scaler = StandardScaler()\n",
    "x_train = scaler.fit_transform(x_train)\n",
    "x_test = scaler.transform(x_test)"
   ]
  },
  {
   "cell_type": "code",
   "execution_count": 6,
   "metadata": {},
   "outputs": [
    {
     "data": {
      "text/plain": [
       "RandomForestClassifier(bootstrap=True, class_weight=None, criterion='entropy',\n",
       "            max_depth=None, max_features='auto', max_leaf_nodes=None,\n",
       "            min_impurity_decrease=0.0, min_impurity_split=None,\n",
       "            min_samples_leaf=1, min_samples_split=2,\n",
       "            min_weight_fraction_leaf=0.0, n_estimators=10, n_jobs=1,\n",
       "            oob_score=False, random_state=None, verbose=0,\n",
       "            warm_start=False)"
      ]
     },
     "execution_count": 6,
     "metadata": {},
     "output_type": "execute_result"
    }
   ],
   "source": [
    "from sklearn.ensemble import RandomForestClassifier\n",
    "classifier = RandomForestClassifier(n_estimators=10, criterion='entropy')\n",
    "classifier.fit(x_train, y_train)"
   ]
  },
  {
   "cell_type": "code",
   "execution_count": 7,
   "metadata": {},
   "outputs": [],
   "source": [
    "y_pred = classifier.predict(x_test)"
   ]
  },
  {
   "cell_type": "code",
   "execution_count": 8,
   "metadata": {},
   "outputs": [
    {
     "name": "stdout",
     "output_type": "stream",
     "text": [
      "0 \t 0\n",
      "0 \t 1\n",
      "1 \t 1\n",
      "0 \t 0\n",
      "1 \t 1\n",
      "1 \t 0\n",
      "0 \t 0\n",
      "1 \t 1\n",
      "0 \t 0\n",
      "0 \t 0\n",
      "0 \t 0\n",
      "0 \t 0\n",
      "1 \t 1\n",
      "1 \t 1\n",
      "0 \t 0\n",
      "0 \t 0\n",
      "0 \t 0\n",
      "0 \t 0\n",
      "0 \t 0\n",
      "1 \t 1\n",
      "0 \t 0\n",
      "0 \t 0\n",
      "0 \t 0\n",
      "0 \t 0\n",
      "0 \t 0\n",
      "0 \t 0\n",
      "0 \t 0\n",
      "0 \t 0\n",
      "0 \t 0\n",
      "1 \t 1\n",
      "1 \t 1\n",
      "0 \t 0\n",
      "1 \t 1\n",
      "0 \t 0\n",
      "0 \t 1\n",
      "1 \t 1\n",
      "0 \t 0\n",
      "0 \t 0\n",
      "0 \t 0\n",
      "1 \t 1\n",
      "1 \t 0\n",
      "0 \t 0\n",
      "1 \t 1\n",
      "1 \t 1\n",
      "0 \t 1\n",
      "0 \t 0\n",
      "0 \t 0\n",
      "1 \t 1\n",
      "0 \t 0\n",
      "1 \t 1\n",
      "0 \t 0\n",
      "1 \t 1\n",
      "1 \t 1\n",
      "0 \t 0\n",
      "1 \t 1\n",
      "1 \t 1\n",
      "1 \t 1\n",
      "0 \t 0\n",
      "0 \t 0\n",
      "0 \t 0\n",
      "1 \t 1\n",
      "1 \t 1\n",
      "1 \t 1\n",
      "1 \t 0\n",
      "0 \t 0\n",
      "0 \t 0\n",
      "0 \t 0\n",
      "0 \t 0\n",
      "0 \t 0\n",
      "0 \t 0\n",
      "0 \t 0\n",
      "0 \t 0\n",
      "0 \t 0\n",
      "0 \t 0\n",
      "1 \t 1\n",
      "0 \t 0\n",
      "0 \t 0\n",
      "0 \t 0\n",
      "1 \t 0\n",
      "1 \t 1\n"
     ]
    }
   ],
   "source": [
    "for i, j in zip(y_pred, y_test):\n",
    "    print(i, '\\t', j)"
   ]
  },
  {
   "cell_type": "code",
   "execution_count": 9,
   "metadata": {},
   "outputs": [
    {
     "data": {
      "text/plain": [
       "array([[48,  4],\n",
       "       [ 3, 25]])"
      ]
     },
     "execution_count": 9,
     "metadata": {},
     "output_type": "execute_result"
    }
   ],
   "source": [
    "from sklearn.metrics import confusion_matrix\n",
    "matrix = confusion_matrix(y_test, y_pred)\n",
    "matrix"
   ]
  },
  {
   "cell_type": "code",
   "execution_count": null,
   "metadata": {},
   "outputs": [],
   "source": []
  }
 ],
 "metadata": {
  "kernelspec": {
   "display_name": "Python 3",
   "language": "python",
   "name": "python3"
  },
  "language_info": {
   "codemirror_mode": {
    "name": "ipython",
    "version": 3
   },
   "file_extension": ".py",
   "mimetype": "text/x-python",
   "name": "python",
   "nbconvert_exporter": "python",
   "pygments_lexer": "ipython3",
   "version": "3.6.4"
  }
 },
 "nbformat": 4,
 "nbformat_minor": 2
}
