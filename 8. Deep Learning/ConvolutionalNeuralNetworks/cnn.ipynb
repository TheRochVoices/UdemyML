{
 "cells": [
  {
   "cell_type": "code",
   "execution_count": 1,
   "metadata": {},
   "outputs": [
    {
     "name": "stderr",
     "output_type": "stream",
     "text": [
      "/home/therochvoices/anaconda3/lib/python3.6/site-packages/h5py/__init__.py:36: FutureWarning: Conversion of the second argument of issubdtype from `float` to `np.floating` is deprecated. In future, it will be treated as `np.float64 == np.dtype(float).type`.\n",
      "  from ._conv import register_converters as _register_converters\n",
      "Using TensorFlow backend.\n"
     ]
    }
   ],
   "source": [
    "from keras.models import Sequential\n",
    "from keras.layers import Convolution2D\n",
    "from keras.layers import MaxPooling2D\n",
    "from keras.layers import Flatten\n",
    "from keras.layers import Dense\n"
   ]
  },
  {
   "cell_type": "code",
   "execution_count": 56,
   "metadata": {},
   "outputs": [],
   "source": [
    "import keras"
   ]
  },
  {
   "cell_type": "code",
   "execution_count": 2,
   "metadata": {},
   "outputs": [],
   "source": [
    "cnn = Sequential()\n",
    "cnn.add(Convolution2D(32, (3, 3), input_shape=(64,64,3), activation='relu'))"
   ]
  },
  {
   "cell_type": "code",
   "execution_count": 3,
   "metadata": {},
   "outputs": [],
   "source": [
    "cnn.add((MaxPooling2D((2, 2))))"
   ]
  },
  {
   "cell_type": "code",
   "execution_count": 5,
   "metadata": {},
   "outputs": [
    {
     "name": "stderr",
     "output_type": "stream",
     "text": [
      "/home/therochvoices/anaconda3/lib/python3.6/site-packages/ipykernel_launcher.py:1: UserWarning: Update your `Conv2D` call to the Keras 2 API: `Conv2D(32, (3, 3), activation=\"relu\")`\n",
      "  \"\"\"Entry point for launching an IPython kernel.\n"
     ]
    }
   ],
   "source": [
    "cnn.add(Convolution2D(32, 3, 3, activation = 'relu'))\n",
    "cnn.add(MaxPooling2D(pool_size = (2, 2)))"
   ]
  },
  {
   "cell_type": "code",
   "execution_count": 7,
   "metadata": {},
   "outputs": [],
   "source": [
    "cnn.add(Flatten())"
   ]
  },
  {
   "cell_type": "code",
   "execution_count": 8,
   "metadata": {},
   "outputs": [
    {
     "name": "stderr",
     "output_type": "stream",
     "text": [
      "/home/therochvoices/anaconda3/lib/python3.6/site-packages/ipykernel_launcher.py:1: UserWarning: Update your `Dense` call to the Keras 2 API: `Dense(activation=\"relu\", units=128)`\n",
      "  \"\"\"Entry point for launching an IPython kernel.\n",
      "/home/therochvoices/anaconda3/lib/python3.6/site-packages/ipykernel_launcher.py:2: UserWarning: Update your `Dense` call to the Keras 2 API: `Dense(activation=\"sigmoid\", units=1)`\n",
      "  \n"
     ]
    }
   ],
   "source": [
    "cnn.add(Dense(output_dim = 128, activation = 'relu'))\n",
    "cnn.add(Dense(output_dim = 1, activation = 'sigmoid'))\n"
   ]
  },
  {
   "cell_type": "code",
   "execution_count": 10,
   "metadata": {},
   "outputs": [],
   "source": [
    "cnn.compile(optimizer = 'adam', loss = 'binary_crossentropy', metrics = ['accuracy'])"
   ]
  },
  {
   "cell_type": "code",
   "execution_count": 13,
   "metadata": {},
   "outputs": [],
   "source": [
    "from keras.preprocessing.image import ImageDataGenerator"
   ]
  },
  {
   "cell_type": "code",
   "execution_count": 15,
   "metadata": {},
   "outputs": [
    {
     "name": "stdout",
     "output_type": "stream",
     "text": [
      "Found 8000 images belonging to 2 classes.\n",
      "Found 2000 images belonging to 2 classes.\n"
     ]
    },
    {
     "name": "stderr",
     "output_type": "stream",
     "text": [
      "/home/therochvoices/anaconda3/lib/python3.6/site-packages/ipykernel_launcher.py:23: UserWarning: The semantics of the Keras 2 argument `steps_per_epoch` is not the same as the Keras 1 argument `samples_per_epoch`. `steps_per_epoch` is the number of batches to draw from the generator at each epoch. Basically steps_per_epoch = samples_per_epoch/batch_size. Similarly `nb_val_samples`->`validation_steps` and `val_samples`->`steps` arguments have changed. Update your method calls accordingly.\n",
      "/home/therochvoices/anaconda3/lib/python3.6/site-packages/ipykernel_launcher.py:23: UserWarning: Update your `fit_generator` call to the Keras 2 API: `fit_generator(<keras.pre..., validation_data=<keras.pre..., steps_per_epoch=250, epochs=25, validation_steps=2000)`\n"
     ]
    },
    {
     "name": "stdout",
     "output_type": "stream",
     "text": [
      "Epoch 1/25\n",
      "250/250 [==============================] - 321s 1s/step - loss: 0.6642 - acc: 0.6002 - val_loss: 0.6389 - val_acc: 0.6374\n",
      "Epoch 2/25\n",
      "250/250 [==============================] - 259s 1s/step - loss: 0.6141 - acc: 0.6646 - val_loss: 0.5704 - val_acc: 0.7239\n",
      "Epoch 3/25\n",
      "250/250 [==============================] - 256s 1s/step - loss: 0.5858 - acc: 0.6884 - val_loss: 0.5372 - val_acc: 0.7352\n",
      "Epoch 4/25\n",
      "250/250 [==============================] - 249s 996ms/step - loss: 0.5518 - acc: 0.7175 - val_loss: 0.5364 - val_acc: 0.7376\n",
      "Epoch 5/25\n",
      "250/250 [==============================] - 247s 987ms/step - loss: 0.5224 - acc: 0.7411 - val_loss: 0.5120 - val_acc: 0.7596\n",
      "Epoch 6/25\n",
      "250/250 [==============================] - 239s 958ms/step - loss: 0.5013 - acc: 0.7561 - val_loss: 0.5457 - val_acc: 0.7485\n",
      "Epoch 7/25\n",
      "250/250 [==============================] - 238s 953ms/step - loss: 0.4887 - acc: 0.7603 - val_loss: 0.5395 - val_acc: 0.7302\n",
      "Epoch 8/25\n",
      "250/250 [==============================] - 238s 951ms/step - loss: 0.4586 - acc: 0.7854 - val_loss: 0.5280 - val_acc: 0.7463\n",
      "Epoch 9/25\n",
      "250/250 [==============================] - 238s 953ms/step - loss: 0.4511 - acc: 0.7831 - val_loss: 0.5270 - val_acc: 0.7330\n",
      "Epoch 10/25\n",
      "250/250 [==============================] - 583s 2s/step - loss: 0.4280 - acc: 0.7940 - val_loss: 0.5277 - val_acc: 0.7514\n",
      "Epoch 11/25\n",
      "250/250 [==============================] - 242s 970ms/step - loss: 0.4149 - acc: 0.8034 - val_loss: 0.4910 - val_acc: 0.7777\n",
      "Epoch 12/25\n",
      "250/250 [==============================] - 237s 948ms/step - loss: 0.3959 - acc: 0.8156 - val_loss: 0.4675 - val_acc: 0.7849\n",
      "Epoch 13/25\n",
      "250/250 [==============================] - 238s 951ms/step - loss: 0.3723 - acc: 0.8320 - val_loss: 0.4768 - val_acc: 0.7850\n",
      "Epoch 14/25\n",
      "250/250 [==============================] - 236s 945ms/step - loss: 0.3512 - acc: 0.8436 - val_loss: 0.4830 - val_acc: 0.7941\n",
      "Epoch 15/25\n",
      "250/250 [==============================] - 237s 948ms/step - loss: 0.3442 - acc: 0.8493 - val_loss: 0.4826 - val_acc: 0.7981\n",
      "Epoch 16/25\n",
      "250/250 [==============================] - 236s 946ms/step - loss: 0.3320 - acc: 0.8586 - val_loss: 0.4647 - val_acc: 0.7965\n",
      "Epoch 17/25\n",
      "250/250 [==============================] - 238s 950ms/step - loss: 0.3147 - acc: 0.8644 - val_loss: 0.4911 - val_acc: 0.7980\n",
      "Epoch 18/25\n",
      "250/250 [==============================] - 237s 949ms/step - loss: 0.2976 - acc: 0.8754 - val_loss: 0.4926 - val_acc: 0.7959\n",
      "Epoch 19/25\n",
      "250/250 [==============================] - 238s 951ms/step - loss: 0.2793 - acc: 0.8785 - val_loss: 0.5207 - val_acc: 0.7941\n",
      "Epoch 20/25\n",
      "250/250 [==============================] - 237s 947ms/step - loss: 0.2661 - acc: 0.8885 - val_loss: 0.4719 - val_acc: 0.8154\n",
      "Epoch 21/25\n",
      "250/250 [==============================] - 238s 951ms/step - loss: 0.2567 - acc: 0.8925 - val_loss: 0.5320 - val_acc: 0.8085\n",
      "Epoch 22/25\n",
      "250/250 [==============================] - 883s 4s/step - loss: 0.2438 - acc: 0.9011 - val_loss: 0.5636 - val_acc: 0.7896\n",
      "Epoch 23/25\n",
      "250/250 [==============================] - 239s 955ms/step - loss: 0.2266 - acc: 0.9081 - val_loss: 0.5799 - val_acc: 0.7930\n",
      "Epoch 24/25\n",
      "250/250 [==============================] - 247s 987ms/step - loss: 0.2213 - acc: 0.9077 - val_loss: 0.5804 - val_acc: 0.7870\n",
      "Epoch 25/25\n",
      "250/250 [==============================] - 264s 1s/step - loss: 0.1955 - acc: 0.9212 - val_loss: 0.6198 - val_acc: 0.7819\n"
     ]
    },
    {
     "data": {
      "text/plain": [
       "<keras.callbacks.History at 0x7fcd005be160>"
      ]
     },
     "execution_count": 15,
     "metadata": {},
     "output_type": "execute_result"
    }
   ],
   "source": [
    "\n",
    "train_datagen = ImageDataGenerator(rescale = 1./255,\n",
    "                                   shear_range = 0.2,\n",
    "                                   zoom_range = 0.2,\n",
    "                                   horizontal_flip = True)\n",
    "\n",
    "test_datagen = ImageDataGenerator(rescale = 1./255)\n",
    "\n",
    "training_set = train_datagen.flow_from_directory('/home/therochvoices/Desktop/Convolutional_Neural_Networks/dataset/training_set',\n",
    "                                                 target_size = (64, 64),\n",
    "                                                 batch_size = 32,\n",
    "                                                 class_mode = 'binary')\n",
    "\n",
    "test_set = test_datagen.flow_from_directory('/home/therochvoices/Desktop/Convolutional_Neural_Networks/dataset/test_set',\n",
    "                                            target_size = (64, 64),\n",
    "                                            batch_size = 32,\n",
    "                                            class_mode = 'binary')\n",
    "\n",
    "cnn.fit_generator(training_set,\n",
    "                         samples_per_epoch = 8000,\n",
    "                         nb_epoch = 25,\n",
    "                         validation_data = test_set,\n",
    "                         nb_val_samples = 2000)"
   ]
  },
  {
   "cell_type": "code",
   "execution_count": 20,
   "metadata": {},
   "outputs": [],
   "source": [
    "from keras.preprocessing import image\n",
    "import numpy as np"
   ]
  },
  {
   "cell_type": "code",
   "execution_count": 24,
   "metadata": {},
   "outputs": [
    {
     "name": "stdout",
     "output_type": "stream",
     "text": [
      "[[1.]]\n"
     ]
    }
   ],
   "source": [
    "img = image.load_img('cat.4003.jpg', target_size=(64,64))\n",
    "img_array = image.img_to_array(img)\n",
    "img_array = np.expand_dims(img_array, axis=0)\n",
    "out = cnn.predict(img_array)\n",
    "print(out)"
   ]
  },
  {
   "cell_type": "code",
   "execution_count": 23,
   "metadata": {},
   "outputs": [
    {
     "name": "stdout",
     "output_type": "stream",
     "text": [
      "[[0.]]\n"
     ]
    }
   ],
   "source": [
    "img = image.load_img('dog.4034.jpg', target_size=(64,64))\n",
    "img_array = image.img_to_array(img)\n",
    "img_array = np.expand_dims(img_array, axis=0)\n",
    "out = cnn.predict(img_array)\n",
    "print(out)"
   ]
  },
  {
   "cell_type": "code",
   "execution_count": null,
   "metadata": {},
   "outputs": [],
   "source": []
  }
 ],
 "metadata": {
  "kernelspec": {
   "display_name": "Python 3",
   "language": "python",
   "name": "python3"
  },
  "language_info": {
   "codemirror_mode": {
    "name": "ipython",
    "version": 3
   },
   "file_extension": ".py",
   "mimetype": "text/x-python",
   "name": "python",
   "nbconvert_exporter": "python",
   "pygments_lexer": "ipython3",
   "version": "3.6.4"
  }
 },
 "nbformat": 4,
 "nbformat_minor": 2
}
