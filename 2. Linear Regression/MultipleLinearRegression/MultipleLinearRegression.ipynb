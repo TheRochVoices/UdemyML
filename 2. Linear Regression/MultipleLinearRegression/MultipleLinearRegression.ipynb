{
 "cells": [
  {
   "cell_type": "code",
   "execution_count": 1,
   "metadata": {},
   "outputs": [],
   "source": [
    "import numpy as np\n",
    "import pandas as pd\n",
    "import matplotlib.pyplot as plt"
   ]
  },
  {
   "cell_type": "code",
   "execution_count": 17,
   "metadata": {},
   "outputs": [],
   "source": [
    "dataSet = pd.read_csv('50_Startups.csv')\n",
    "exp = dataSet.iloc[:, 0:4].values\n",
    "pft = dataSet.iloc[:, 4].values"
   ]
  },
  {
   "cell_type": "code",
   "execution_count": 27,
   "metadata": {},
   "outputs": [],
   "source": [
    "from sklearn.preprocessing import LabelEncoder, OneHotEncoder\n",
    "\n",
    "lEncoder = LabelEncoder()\n",
    "exp[:, 3] = lEncoder.fit_transform(exp[:, 3])\n",
    "ohEncoder = OneHotEncoder(categorical_features=[3])\n",
    "exp = ohEncoder.fit_transform(exp).toarray()"
   ]
  },
  {
   "cell_type": "code",
   "execution_count": 32,
   "metadata": {},
   "outputs": [],
   "source": [
    "from sklearn.cross_validation import train_test_split\n",
    "\n",
    "exp_train, exp_test, pft_train, pft_test = train_test_split(exp, pft,test_size=0.2, random_state=0)"
   ]
  },
  {
   "cell_type": "code",
   "execution_count": 33,
   "metadata": {},
   "outputs": [],
   "source": [
    "from sklearn.linear_model import LinearRegression"
   ]
  },
  {
   "cell_type": "code",
   "execution_count": 36,
   "metadata": {},
   "outputs": [],
   "source": [
    "regression = LinearRegression()\n",
    "regression.fit(exp_train, pft_train)\n",
    "\n",
    "pft_pred = regression.predict(exp_test)"
   ]
  },
  {
   "cell_type": "code",
   "execution_count": 50,
   "metadata": {},
   "outputs": [
    {
     "name": "stdout",
     "output_type": "stream",
     "text": [
      "103015.20 \t 103282.38\n",
      "132582.28 \t 144259.40\n",
      "132447.74 \t 146121.95\n",
      "71976.10 \t 77798.83\n",
      "178537.48 \t 191050.39\n",
      "116161.24 \t 105008.31\n",
      "67851.69 \t 81229.06\n",
      "98791.73 \t 97483.56\n",
      "113969.44 \t 110352.25\n",
      "167921.07 \t 166187.94\n"
     ]
    }
   ],
   "source": [
    "for i, j in zip(pft_pred, pft_test):\n",
    "    i=format(i, '.2f')\n",
    "    j=format(j, '.2f')\n",
    "    print(i,'\\t', j)"
   ]
  },
  {
   "cell_type": "code",
   "execution_count": null,
   "metadata": {},
   "outputs": [],
   "source": []
  }
 ],
 "metadata": {
  "kernelspec": {
   "display_name": "Python 3",
   "language": "python",
   "name": "python3"
  },
  "language_info": {
   "codemirror_mode": {
    "name": "ipython",
    "version": 3
   },
   "file_extension": ".py",
   "mimetype": "text/x-python",
   "name": "python",
   "nbconvert_exporter": "python",
   "pygments_lexer": "ipython3",
   "version": "3.6.4"
  }
 },
 "nbformat": 4,
 "nbformat_minor": 2
}
